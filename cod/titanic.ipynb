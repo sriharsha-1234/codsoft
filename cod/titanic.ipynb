{
 "cells": [
  {
   "cell_type": "code",
   "execution_count": 27,
   "metadata": {},
   "outputs": [],
   "source": [
    "import pandas as TSP\n",
    "from sklearn.model_selection import train_test_split\n",
    "from sklearn.ensemble import RandomForestClassifier\n",
    "from sklearn.metrics import accuracy_score"
   ]
  },
  {
   "cell_type": "code",
   "execution_count": 28,
   "metadata": {},
   "outputs": [],
   "source": [
    "tspsheet = TSP.read_csv(r\"C:\\Users\\sriha\\OneDrive\\Desktop\\codsoft files\\Titanic-Dataset.csv\")"
   ]
  },
  {
   "cell_type": "code",
   "execution_count": 29,
   "metadata": {},
   "outputs": [],
   "source": [
    "tspsheet.dropna(subset=['Age', 'Sex', 'SibSp'], inplace=True)\n",
    "tspsheet['Sex'] = tspsheet['Sex'].map({'male': 0, 'female': 1})"
   ]
  },
  {
   "cell_type": "code",
   "execution_count": 30,
   "metadata": {},
   "outputs": [
    {
     "name": "stdout",
     "output_type": "stream",
     "text": [
      "DataFrame preview:\n",
      "     PassengerId  Survived  Pclass                                  Name  Sex  \\\n",
      "885          886         0       3  Rice, Mrs. William (Margaret Norton)    1   \n",
      "886          887         0       2                 Montvila, Rev. Juozas    0   \n",
      "887          888         1       1          Graham, Miss. Margaret Edith    1   \n",
      "889          890         1       1                 Behr, Mr. Karl Howell    0   \n",
      "890          891         0       3                   Dooley, Mr. Patrick    0   \n",
      "\n",
      "      Age  SibSp  Parch  Ticket    Fare Cabin Embarked  \n",
      "885  39.0      0      5  382652  29.125   NaN        Q  \n",
      "886  27.0      0      0  211536  13.000   NaN        S  \n",
      "887  19.0      0      0  112053  30.000   B42        S  \n",
      "889  26.0      0      0  111369  30.000  C148        C  \n",
      "890  32.0      0      0  370376   7.750   NaN        Q  \n",
      "Column 'unSurvived' does not exist in the DataFrame.\n"
     ]
    }
   ],
   "source": [
    "print(\"DataFrame preview:\")\n",
    "print(tspsheet.tail())\n",
    "\n",
    "# Try accessing the column safely\n",
    "try:\n",
    "    B = tspsheet['unSurvived']\n",
    "except KeyError:\n",
    "    print(\"Column 'unSurvived' does not exist in the DataFrame.\")"
   ]
  },
  {
   "cell_type": "code",
   "execution_count": 31,
   "metadata": {},
   "outputs": [],
   "source": [
    "A_train, A_test, B_train, B_test = train_test_split(A, B, test_size=0.2, random_state=42)"
   ]
  },
  {
   "cell_type": "code",
   "execution_count": 32,
   "metadata": {},
   "outputs": [],
   "source": [
    "X = RandomForestClassifier(n_estimators=100, random_state=42)\n",
    "X.fit(A_train, B_train)# Predict on the test set\n",
    "C_pred = X.predict(A_test)"
   ]
  },
  {
   "cell_type": "code",
   "execution_count": 33,
   "metadata": {},
   "outputs": [
    {
     "name": "stdout",
     "output_type": "stream",
     "text": [
      "Accuracy: 0.7132867132867133\n"
     ]
    }
   ],
   "source": [
    "acurcy = accuracy_score(B_test, C_pred)\n",
    "print(\"Accuracy:\", acurcy)"
   ]
  },
  {
   "cell_type": "code",
   "execution_count": 34,
   "metadata": {},
   "outputs": [
    {
     "name": "stdout",
     "output_type": "stream",
     "text": [
      "unSurvived\n"
     ]
    }
   ],
   "source": [
    "def unsurvival_prediction(SipSb, sex, age):\n",
    "    input_data = TSP.DataFrame({'SibSp': [SipSb], 'Sex': [sex], 'Age': [age]})\n",
    "    forecast = X.predict(input_data)[0]\n",
    "    if forecast == 1:\n",
    "        return \"unSurvived\"\n",
    "    else:\n",
    "        return \"The one you're looking did  survive\"\n",
    "print(unsurvival_prediction(1, 1, 16))"
   ]
  }
 ],
 "metadata": {
  "kernelspec": {
   "display_name": "Python 3",
   "language": "python",
   "name": "python3"
  },
  "language_info": {
   "codemirror_mode": {
    "name": "ipython",
    "version": 3
   },
   "file_extension": ".py",
   "mimetype": "text/x-python",
   "name": "python",
   "nbconvert_exporter": "python",
   "pygments_lexer": "ipython3",
   "version": "3.11.9"
  }
 },
 "nbformat": 4,
 "nbformat_minor": 2
}
